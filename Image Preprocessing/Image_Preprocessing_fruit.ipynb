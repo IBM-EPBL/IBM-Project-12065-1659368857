{
  "nbformat": 4,
  "nbformat_minor": 0,
  "metadata": {
    "colab": {
      "provenance": []
    },
    "kernelspec": {
      "name": "python3",
      "display_name": "Python 3"
    },
    "language_info": {
      "name": "python"
    }
  },
  "cells": [
    {
      "cell_type": "code",
      "execution_count": 1,
      "metadata": {
        "id": "5TcFdU96OAPI"
      },
      "outputs": [],
      "source": [
        "import tensorflow as tf\n",
        "from keras.preprocessing.image import ImageDataGenerator\n",
        "train_datagen=ImageDataGenerator(rescale=1./255,shear_range=0.2,zoom_range=0.2,horizontal_flip=True)\n",
        "test_datagen=ImageDataGenerator(rescale=1)"
      ]
    },
    {
      "cell_type": "code",
      "source": [
        "x_train = train_datagen.flow_from_directory(r'/content/drive/MyDrive/IBM/IBM_Dataset/fruit-dataset/fruit-dataset/train',target_size = (128,128), batch_size = 32, class_mode = 'categorical')\n",
        "x_test = test_datagen.flow_from_directory(r'/content/drive/MyDrive/IBM/IBM_Dataset/fruit-dataset/fruit-dataset/test',target_size = (128,128), batch_size = 32, class_mode = 'categorical')"
      ],
      "metadata": {
        "colab": {
          "base_uri": "https://localhost:8080/"
        },
        "id": "75WSns_VOX74",
        "outputId": "644e78be-b572-469d-fe3c-a70e5f53de7d"
      },
      "execution_count": 2,
      "outputs": [
        {
          "output_type": "stream",
          "name": "stdout",
          "text": [
            "Found 5384 images belonging to 6 classes.\n",
            "Found 1706 images belonging to 6 classes.\n"
          ]
        }
      ]
    },
    {
      "cell_type": "code",
      "source": [
        "x_train.class_indices"
      ],
      "metadata": {
        "id": "rfz0FmFzOgyt",
        "outputId": "9a88d635-e216-4caf-adbf-4d240d98f6e4",
        "colab": {
          "base_uri": "https://localhost:8080/"
        }
      },
      "execution_count": 3,
      "outputs": [
        {
          "output_type": "execute_result",
          "data": {
            "text/plain": [
              "{'Apple___Black_rot': 0,\n",
              " 'Apple___healthy': 1,\n",
              " 'Corn_(maize)___Northern_Leaf_Blight': 2,\n",
              " 'Corn_(maize)___healthy': 3,\n",
              " 'Peach___Bacterial_spot': 4,\n",
              " 'Peach___healthy': 5}"
            ]
          },
          "metadata": {},
          "execution_count": 3
        }
      ]
    }
  ]
}