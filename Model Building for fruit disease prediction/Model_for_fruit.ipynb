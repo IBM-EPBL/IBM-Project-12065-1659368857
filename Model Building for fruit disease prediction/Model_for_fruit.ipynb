{
  "nbformat": 4,
  "nbformat_minor": 0,
  "metadata": {
    "colab": {
      "provenance": []
    },
    "kernelspec": {
      "name": "python3",
      "display_name": "Python 3"
    },
    "language_info": {
      "name": "python"
    }
  },
  "cells": [
    {
      "cell_type": "code",
      "execution_count": 1,
      "metadata": {
        "id": "lq96RX0BPiHX"
      },
      "outputs": [],
      "source": [
        "from tensorflow.keras.models import Sequential\n",
        "from tensorflow.keras.layers import Dense,Convolution2D,MaxPooling2D,Flatten"
      ]
    },
    {
      "cell_type": "code",
      "source": [
        "model=Sequential()"
      ],
      "metadata": {
        "id": "aHu_CtcDyQGA"
      },
      "execution_count": 2,
      "outputs": []
    },
    {
      "cell_type": "code",
      "source": [
        "model.add(Convolution2D(32,(3,3),input_shape=(128,128,3),activation='relu'))"
      ],
      "metadata": {
        "id": "cMoXGFb5yWBn"
      },
      "execution_count": 3,
      "outputs": []
    },
    {
      "cell_type": "code",
      "source": [
        "model.add(MaxPooling2D(pool_size=(2,2)))"
      ],
      "metadata": {
        "id": "uIdOpWPwyYTB"
      },
      "execution_count": 4,
      "outputs": []
    },
    {
      "cell_type": "code",
      "source": [
        "model.add(Flatten())"
      ],
      "metadata": {
        "id": "sf-glBtNyap5"
      },
      "execution_count": 5,
      "outputs": []
    },
    {
      "cell_type": "code",
      "source": [
        "model.summary()"
      ],
      "metadata": {
        "colab": {
          "base_uri": "https://localhost:8080/"
        },
        "id": "EHhO4jKwycV-",
        "outputId": "9c7a841f-d25f-4cc6-d55c-e2b66b79655c"
      },
      "execution_count": 6,
      "outputs": [
        {
          "output_type": "stream",
          "name": "stdout",
          "text": [
            "Model: \"sequential\"\n",
            "_________________________________________________________________\n",
            " Layer (type)                Output Shape              Param #   \n",
            "=================================================================\n",
            " conv2d (Conv2D)             (None, 126, 126, 32)      896       \n",
            "                                                                 \n",
            " max_pooling2d (MaxPooling2D  (None, 63, 63, 32)       0         \n",
            " )                                                               \n",
            "                                                                 \n",
            " flatten (Flatten)           (None, 127008)            0         \n",
            "                                                                 \n",
            "=================================================================\n",
            "Total params: 896\n",
            "Trainable params: 896\n",
            "Non-trainable params: 0\n",
            "_________________________________________________________________\n"
          ]
        }
      ]
    },
    {
      "cell_type": "code",
      "source": [
        "model.add(Dense(300,activation='relu'))\n",
        "model.add(Dense(150,activation='relu'))"
      ],
      "metadata": {
        "id": "UWTnZ95qy5JG"
      },
      "execution_count": null,
      "outputs": []
    },
    {
      "cell_type": "code",
      "source": [
        "model.add(Dense(6,activation='softmax'))"
      ],
      "metadata": {
        "id": "H2QUqc4Uy8zH"
      },
      "execution_count": null,
      "outputs": []
    },
    {
      "cell_type": "code",
      "source": [
        "model.compile(loss='categorical_crossentropy',optimizer='adam',metrics=['accuracy'])"
      ],
      "metadata": {
        "id": "fswH4XyKy-3T"
      },
      "execution_count": null,
      "outputs": []
    },
    {
      "cell_type": "code",
      "source": [
        "len(x_train)"
      ],
      "metadata": {
        "colab": {
          "base_uri": "https://localhost:8080/"
        },
        "id": "BhrNfZJczBH-",
        "outputId": "ecd4c238-d841-43d4-a953-5c38ac73e8cd"
      },
      "execution_count": null,
      "outputs": [
        {
          "output_type": "execute_result",
          "data": {
            "text/plain": [
              "169"
            ]
          },
          "metadata": {},
          "execution_count": 14
        }
      ]
    },
    {
      "cell_type": "code",
      "source": [
        "model.fit_generator(x_train,steps_per_epoch=len(x_train),validation_data=x_test,validation_steps=len(x_test),epochs=10)"
      ],
      "metadata": {
        "colab": {
          "base_uri": "https://localhost:8080/"
        },
        "id": "Ssy42BazzC29",
        "outputId": "50e21728-a764-477e-f586-75cecb0b1e1a"
      },
      "execution_count": null,
      "outputs": [
        {
          "output_type": "stream",
          "name": "stderr",
          "text": [
            "/usr/local/lib/python3.7/dist-packages/ipykernel_launcher.py:1: UserWarning: `Model.fit_generator` is deprecated and will be removed in a future version. Please use `Model.fit`, which supports generators.\n",
            "  \"\"\"Entry point for launching an IPython kernel.\n"
          ]
        },
        {
          "output_type": "stream",
          "name": "stdout",
          "text": [
            "Epoch 1/10\n",
            "169/169 [==============================] - 207s 1s/step - loss: 0.7680 - accuracy: 0.7951 - val_loss: 57.1269 - val_accuracy: 0.8705\n",
            "Epoch 2/10\n",
            "169/169 [==============================] - 116s 683ms/step - loss: 0.2678 - accuracy: 0.9084 - val_loss: 71.5053 - val_accuracy: 0.8705\n",
            "Epoch 3/10\n",
            "169/169 [==============================] - 112s 662ms/step - loss: 0.2004 - accuracy: 0.9302 - val_loss: 71.7902 - val_accuracy: 0.8857\n",
            "Epoch 4/10\n",
            "169/169 [==============================] - 119s 702ms/step - loss: 0.1523 - accuracy: 0.9491 - val_loss: 215.4037 - val_accuracy: 0.7884\n",
            "Epoch 5/10\n",
            "169/169 [==============================] - 111s 658ms/step - loss: 0.1430 - accuracy: 0.9519 - val_loss: 108.3887 - val_accuracy: 0.8623\n",
            "Epoch 6/10\n",
            "169/169 [==============================] - 154s 913ms/step - loss: 0.1387 - accuracy: 0.9508 - val_loss: 356.8556 - val_accuracy: 0.7257\n",
            "Epoch 7/10\n",
            "169/169 [==============================] - 155s 919ms/step - loss: 0.1057 - accuracy: 0.9669 - val_loss: 316.8939 - val_accuracy: 0.7749\n",
            "Epoch 8/10\n",
            "169/169 [==============================] - 127s 746ms/step - loss: 0.0769 - accuracy: 0.9740 - val_loss: 417.5527 - val_accuracy: 0.7339\n",
            "Epoch 9/10\n",
            "169/169 [==============================] - 122s 724ms/step - loss: 0.0701 - accuracy: 0.9772 - val_loss: 764.7382 - val_accuracy: 0.6336\n",
            "Epoch 10/10\n",
            "169/169 [==============================] - 118s 694ms/step - loss: 0.0925 - accuracy: 0.9642 - val_loss: 529.7956 - val_accuracy: 0.6958\n"
          ]
        },
        {
          "output_type": "execute_result",
          "data": {
            "text/plain": [
              "<keras.callbacks.History at 0x7f15875b2310>"
            ]
          },
          "metadata": {},
          "execution_count": 15
        }
      ]
    },
    {
      "cell_type": "code",
      "source": [
        "model.save('fruit.h5')"
      ],
      "metadata": {
        "id": "tOr6LEynlvEi"
      },
      "execution_count": null,
      "outputs": []
    },
    {
      "cell_type": "code",
      "source": [
        "ls"
      ],
      "metadata": {
        "colab": {
          "base_uri": "https://localhost:8080/"
        },
        "id": "xVLvdKfq0fbA",
        "outputId": "bee209d4-95bb-42d5-baf7-f3d83e3ce0d1"
      },
      "execution_count": null,
      "outputs": [
        {
          "output_type": "stream",
          "name": "stdout",
          "text": [
            "fruit.h5  vegetable.h5\n"
          ]
        }
      ]
    }
  ]
}